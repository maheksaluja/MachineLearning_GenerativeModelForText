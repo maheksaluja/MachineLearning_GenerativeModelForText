{
 "cells": [
  {
   "cell_type": "markdown",
   "metadata": {},
   "source": [
    "# Name - Mahek Saluja\n",
    "# USC ID - 8231303227\n",
    "\n",
    "\n",
    "# HW7"
   ]
  },
  {
   "cell_type": "code",
   "execution_count": 100,
   "metadata": {
    "colab": {},
    "colab_type": "code",
    "id": "Oa8CfUrN7smO"
   },
   "outputs": [],
   "source": [
    "import os\n",
    "import string\n",
    "from sklearn.preprocessing import MinMaxScaler, OneHotEncoder\n",
    "import tensorflow as tf\n",
    "from tensorflow import keras\n",
    "import numpy as np\n",
    "import cv2\n",
    "from skimage.color import rgb2gray\n",
    "from sklearn.cluster import KMeans\n",
    "import matplotlib.pyplot as plt\n",
    "from sklearn.model_selection import train_test_split"
   ]
  },
  {
   "cell_type": "markdown",
   "metadata": {},
   "source": [
    "# Q1)"
   ]
  },
  {
   "cell_type": "code",
   "execution_count": 220,
   "metadata": {
    "colab": {},
    "colab_type": "code",
    "id": "1WREWFOJ8e7H"
   },
   "outputs": [],
   "source": [
    "def load_concat():\n",
    "    #print(os.listdir(\"../\"))\n",
    "    out = open(\"../Data/Book Files/concat.txt\", 'w')\n",
    "    files = os.listdir(\"../Data/Book Files/books\")\n",
    "    for file in files:\n",
    "        if file == '.ipynb_checkpoints':\n",
    "            continue\n",
    "        #print(file)\n",
    "        path = \"../Data/Book Files/books/\" + file\n",
    "        with open(path, 'r', encoding='ascii', errors='ignore') as f:\n",
    "            for l in f:\n",
    "                out.write(l)\n",
    "    out.close()"
   ]
  },
  {
   "cell_type": "code",
   "execution_count": 221,
   "metadata": {
    "colab": {
     "base_uri": "https://localhost:8080/",
     "height": 54
    },
    "colab_type": "code",
    "id": "7Eqc7OFz8h1M",
    "outputId": "8e728146-adaf-4d42-d320-b3c934c8e221"
   },
   "outputs": [],
   "source": [
    "load_concat()\n",
    "concat = open(\"../Data/Book Files/concat.txt\", 'r').read()\n",
    "lower_concat = concat.lower()\n",
    "dist_char_lower = set(lower_concat) - set(string.punctuation)"
   ]
  },
  {
   "cell_type": "code",
   "execution_count": 222,
   "metadata": {
    "colab": {},
    "colab_type": "code",
    "id": "uQ5YAPBP8kFI"
   },
   "outputs": [],
   "source": [
    "def scaling(dist_char_lower):\n",
    "    index = np.array([i for i in range(len(dist_char_lower))]).reshape(-1, 1)\n",
    "    char_dict_scale = {}\n",
    "    char_dict = {}\n",
    "    for i, val in zip(index , sorted(dist_char_lower)):\n",
    "        char_dict[val] = i[0]\n",
    "    index = MinMaxScaler().fit_transform(index)\n",
    "    for i, val in zip(index , sorted(dist_char_lower)):\n",
    "        char_dict_scale[val] = i[0]\n",
    "    return char_dict, char_dict_scale"
   ]
  },
  {
   "cell_type": "code",
   "execution_count": 223,
   "metadata": {
    "colab": {},
    "colab_type": "code",
    "id": "6c7TZLEY-mNn"
   },
   "outputs": [],
   "source": [
    "char, char_scaled = scaling(dist_char_lower)\n",
    "text = lower_concat.translate(str.maketrans('','', string.punctuation))"
   ]
  },
  {
   "cell_type": "code",
   "execution_count": 224,
   "metadata": {
    "colab": {},
    "colab_type": "code",
    "id": "Hcc03Zy2-oWP"
   },
   "outputs": [],
   "source": [
    "x = []\n",
    "y = []\n",
    "for w in range(len(text)-99):\n",
    "    x.append([char_scaled[c] for c in text[w:w+99]])\n",
    "    y.append([char[text[w+99]]])"
   ]
  },
  {
   "cell_type": "code",
   "execution_count": 225,
   "metadata": {
    "colab": {
     "base_uri": "https://localhost:8080/",
     "height": 221
    },
    "colab_type": "code",
    "id": "Wk8ZMCQe-q25",
    "outputId": "35420fce-927c-4c52-80ba-1b3232f5992c"
   },
   "outputs": [
    {
     "name": "stdout",
     "output_type": "stream",
     "text": [
      "Model: \"sequential_23\"\n",
      "_________________________________________________________________\n",
      "Layer (type)                 Output Shape              Param #   \n",
      "=================================================================\n",
      "lstm (LSTM)                  (None, 256)               264192    \n",
      "_________________________________________________________________\n",
      "dense_26 (Dense)             (None, 38)                9766      \n",
      "=================================================================\n",
      "Total params: 273,958\n",
      "Trainable params: 273,958\n",
      "Non-trainable params: 0\n",
      "_________________________________________________________________\n"
     ]
    }
   ],
   "source": [
    "x_np = np.array(x)\n",
    "x=0\n",
    "x_np = np.reshape(x_np, (x_np.shape[0], x_np.shape[1], 1))\n",
    "onehot_encoder = OneHotEncoder(sparse=False)\n",
    "onehot_encoded = onehot_encoder.fit_transform(y)\n",
    "\n",
    "model = keras.Sequential()\n",
    "model.add(keras.layers.LSTM(256, input_shape=(x_np.shape[1],x_np.shape[2])))\n",
    "model.add(keras.layers.Dense(onehot_encoded.shape[1], activation=\"softmax\"))\n",
    "model.compile(loss='categorical_crossentropy', optimizer=tf.keras.optimizers.Adam())\n",
    "model.summary()"
   ]
  },
  {
   "cell_type": "code",
   "execution_count": 226,
   "metadata": {
    "colab": {
     "base_uri": "https://localhost:8080/",
     "height": 221
    },
    "colab_type": "code",
    "id": "rAdCfgFBbpW1",
    "outputId": "b0e014e8-8adb-4fa4-ce0a-ef7e27446d6b"
   },
   "outputs": [],
   "source": [
    "checkpoint_filepath = '../Checkpoints/checkpoint'"
   ]
  },
  {
   "cell_type": "code",
   "execution_count": 9,
   "metadata": {
    "colab": {
     "base_uri": "https://localhost:8080/",
     "height": 530
    },
    "colab_type": "code",
    "id": "GhtSC2pM-7gl",
    "outputId": "f8f4ae33-3a9e-4231-8dea-edfe3e66df75"
   },
   "outputs": [
    {
     "name": "stdout",
     "output_type": "stream",
     "text": [
      "Epoch 1/10\n",
      "19306/19306 [==============================] - ETA: 0s - loss: 2.3019WARNING:tensorflow:Early stopping conditioned on metric `val_loss` which is not available. Available metrics are: loss\n",
      "19306/19306 [==============================] - 463s 24ms/step - loss: 2.3019\n",
      "Epoch 2/10\n",
      "19304/19306 [============================>.] - ETA: 0s - loss: 1.8983WARNING:tensorflow:Early stopping conditioned on metric `val_loss` which is not available. Available metrics are: loss\n",
      "19306/19306 [==============================] - 464s 24ms/step - loss: 1.8983\n",
      "Epoch 3/10\n",
      "19306/19306 [==============================] - ETA: 0s - loss: 1.7609WARNING:tensorflow:Early stopping conditioned on metric `val_loss` which is not available. Available metrics are: loss\n",
      "19306/19306 [==============================] - 460s 24ms/step - loss: 1.7609\n",
      "Epoch 4/10\n",
      "19306/19306 [==============================] - ETA: 0s - loss: 1.6829WARNING:tensorflow:Early stopping conditioned on metric `val_loss` which is not available. Available metrics are: loss\n",
      "19306/19306 [==============================] - 460s 24ms/step - loss: 1.6829\n",
      "Epoch 5/10\n",
      "19304/19306 [============================>.] - ETA: 0s - loss: 2.4972WARNING:tensorflow:Early stopping conditioned on metric `val_loss` which is not available. Available metrics are: loss\n",
      "19306/19306 [==============================] - 458s 24ms/step - loss: 2.4972\n",
      "Epoch 6/10\n",
      "19304/19306 [============================>.] - ETA: 0s - loss: 2.2071WARNING:tensorflow:Early stopping conditioned on metric `val_loss` which is not available. Available metrics are: loss\n",
      "19306/19306 [==============================] - 460s 24ms/step - loss: 2.2070\n",
      "Epoch 7/10\n",
      "19305/19306 [============================>.] - ETA: 0s - loss: 1.9296WARNING:tensorflow:Early stopping conditioned on metric `val_loss` which is not available. Available metrics are: loss\n",
      "19306/19306 [==============================] - 457s 24ms/step - loss: 1.9296\n",
      "Epoch 8/10\n",
      "19305/19306 [============================>.] - ETA: 0s - loss: 1.7929WARNING:tensorflow:Early stopping conditioned on metric `val_loss` which is not available. Available metrics are: loss\n",
      "19306/19306 [==============================] - 456s 24ms/step - loss: 1.7929\n",
      "Epoch 9/10\n",
      "19306/19306 [==============================] - ETA: 0s - loss: 1.7126WARNING:tensorflow:Early stopping conditioned on metric `val_loss` which is not available. Available metrics are: loss\n",
      "19306/19306 [==============================] - 456s 24ms/step - loss: 1.7126\n",
      "Epoch 10/10\n",
      " 5248/19306 [=======>......................] - ETA: 5:30 - loss: 1.6718Buffered data was truncated after reaching the output size limit."
     ]
    }
   ],
   "source": [
    "earlyStopping = keras.callbacks.EarlyStopping(patience = 4, min_delta = 1e-3)\n",
    "\n",
    "\n",
    "model_checkpoint_callback = tf.keras.callbacks.ModelCheckpoint(\n",
    "    filepath=checkpoint_filepath,\n",
    "    save_weights_only=True,\n",
    "    monitor='loss',\n",
    "    mode='min',\n",
    "    save_best_only=True)\n",
    "\n",
    "model.fit(x_np, onehot_encoded, epochs = 10, batch_size = 256, callbacks=[model_checkpoint_callback, earlyStopping])"
   ]
  },
  {
   "cell_type": "code",
   "execution_count": null,
   "metadata": {
    "colab": {
     "base_uri": "https://localhost:8080/"
    },
    "colab_type": "code",
    "id": "JBQBLxja_Nh-",
    "outputId": "0c516508-f834-433d-81e2-76e0bb619e58"
   },
   "outputs": [],
   "source": []
  },
  {
   "cell_type": "code",
   "execution_count": 232,
   "metadata": {
    "colab": {
     "base_uri": "https://localhost:8080/"
    },
    "colab_type": "code",
    "id": "ksrxtcZknCQc",
    "outputId": "18aaba85-649d-4a9b-a00f-d543c64bbe95"
   },
   "outputs": [],
   "source": [
    "to_char = {}\n",
    "for key, val in char.items():\n",
    "    to_char[val] = key\n",
    "\n"
   ]
  },
  {
   "cell_type": "code",
   "execution_count": 233,
   "metadata": {
    "colab": {},
    "colab_type": "code",
    "id": "Oc3HuGsBjwCW"
   },
   "outputs": [
    {
     "name": "stdout",
     "output_type": "stream",
     "text": [
      "WARNING:tensorflow:Inconsistent references when loading the checkpoint into this object graph. Either the Trackable object references in the Python program have changed in an incompatible way, or the checkpoint was generated in an incompatible program.\n",
      "\n",
      "Two checkpoint references resolved to different objects (<tensorflow.python.keras.layers.recurrent_v2.LSTM object at 0x7f962c659250> and <tensorflow.python.keras.engine.input_layer.InputLayer object at 0x7f964d632590>).\n",
      "WARNING:tensorflow:Inconsistent references when loading the checkpoint into this object graph. Either the Trackable object references in the Python program have changed in an incompatible way, or the checkpoint was generated in an incompatible program.\n",
      "\n",
      "Two checkpoint references resolved to different objects (<tensorflow.python.keras.layers.core.Dense object at 0x7f964d4d3b90> and <tensorflow.python.keras.layers.recurrent_v2.LSTM object at 0x7f962c659250>).\n"
     ]
    }
   ],
   "source": [
    "train_text = 'There are those who take mental phenomena naively, just as they would physical phenomena. This school of psychologists tends not to emphasize the object.'\n",
    "train_text = train_text.translate(str.maketrans('', '', string.punctuation))\n",
    "train_text = train_text.lower()\n",
    "scaled_text =[char_scaled[c] for c in train_text][-99:]\n",
    "\n",
    "res = \"\"\n",
    "model.load_weights(checkpoint_filepath)\n",
    "for i in range(1000):\n",
    "    model_input = np.reshape(scaled_text, (1, 99, 1))\n",
    "    pred = model.predict(model_input)\n",
    "    index = np.argmax(pred)\n",
    "    res_char = to_char[index]\n",
    "    #print(res_char)\n",
    "    res = res + res_char\n",
    "    scaled_text.append(char_scaled[res_char])\n",
    "    scaled_text = scaled_text[1:]\n"
   ]
  },
  {
   "cell_type": "code",
   "execution_count": 234,
   "metadata": {
    "colab": {},
    "colab_type": "code",
    "id": "R2QxLlLsloDs"
   },
   "outputs": [],
   "source": [
    "final_text = train_text + res"
   ]
  },
  {
   "cell_type": "markdown",
   "metadata": {},
   "source": [
    "## Generated Text"
   ]
  },
  {
   "cell_type": "code",
   "execution_count": 235,
   "metadata": {
    "colab": {
     "base_uri": "https://localhost:8080/",
     "height": 140
    },
    "colab_type": "code",
    "id": "hrpcf83UlpdO",
    "outputId": "0db807fa-4ed0-4ef4-bd36-fd81cb34240d"
   },
   "outputs": [
    {
     "data": {
      "text/plain": [
       "'there are those who take mental phenomena naively just as they would physical phenomena this school of psychologists tends not to emphasize the object of the theory of any cefoner and the shaoe of the theory of any cefoner and the shaoe of the theory of any cefoner and the shaoe of the theory of any cefoner and the shaoe of the theory of any cefoner and the shaoe of the theory of any cefoner and the shaoe of the theory of any cefoner and the shaoe of the theory of any cefoner and the shaoe of the theory of any cefoner and the shaoe of the theory of any cefoner and the shaoe of the theory of any cefoner and the shaoe of the theory of any cefoner and the shaoe of the theory of any cefoner and the shaoe of the theory of any cefoner and the shaoe of the theory of any cefoner and the shaoe of the theory of any cefoner and the shaoe of the theory of any cefoner and the shaoe of the theory of any cefoner and the shaoe of the theory of any cefoner and the shaoe of the theory of any cefoner and the shaoe of the theory of any cefoner and the shaoe of the theory of any cefoner and the shaoe of the theory of any cefoner and the shaoe of the the'"
      ]
     },
     "execution_count": 235,
     "metadata": {},
     "output_type": "execute_result"
    }
   ],
   "source": [
    "final_text"
   ]
  },
  {
   "cell_type": "code",
   "execution_count": null,
   "metadata": {},
   "outputs": [],
   "source": []
  },
  {
   "cell_type": "markdown",
   "metadata": {},
   "source": [
    "# Q2"
   ]
  },
  {
   "cell_type": "code",
   "execution_count": null,
   "metadata": {},
   "outputs": [],
   "source": []
  },
  {
   "cell_type": "code",
   "execution_count": 2,
   "metadata": {},
   "outputs": [],
   "source": [
    "cifar_data = keras.datasets.cifar10"
   ]
  },
  {
   "cell_type": "code",
   "execution_count": 4,
   "metadata": {},
   "outputs": [
    {
     "name": "stdout",
     "output_type": "stream",
     "text": [
      "Downloading data from https://www.cs.toronto.edu/~kriz/cifar-10-python.tar.gz\n",
      "170500096/170498071 [==============================] - 19s 0us/step\n"
     ]
    }
   ],
   "source": [
    "data = cifar_data.load_data()"
   ]
  },
  {
   "cell_type": "code",
   "execution_count": 6,
   "metadata": {},
   "outputs": [],
   "source": [
    "(x_train, y_train), (x_test, y_test) = data"
   ]
  },
  {
   "cell_type": "code",
   "execution_count": 26,
   "metadata": {},
   "outputs": [],
   "source": [
    "temp_x = x_train.reshape(-1, 32*32*3)\n",
    "temp_y = y_train.reshape(-1)\n",
    "\n",
    "train_bird_x = temp_x[temp_y ==2].reshape(-1, 32, 32, 3)\n",
    "train_bird_y = temp_y[temp_y ==2]\n",
    "\n",
    "\n",
    "\n",
    "temp_x = x_test.reshape(-1, 32*32*3)\n",
    "temp_y = y_test.reshape(-1)\n",
    "\n",
    "test_bird_x = temp_x[temp_y ==2].reshape(-1, 32, 32, 3)\n",
    "test_bird_y = temp_y[temp_y ==2]"
   ]
  },
  {
   "cell_type": "code",
   "execution_count": 27,
   "metadata": {},
   "outputs": [
    {
     "data": {
      "text/plain": [
       "(1000, 32, 32, 3)"
      ]
     },
     "execution_count": 27,
     "metadata": {},
     "output_type": "execute_result"
    }
   ],
   "source": [
    "test_bird_x.shape"
   ]
  },
  {
   "cell_type": "code",
   "execution_count": 30,
   "metadata": {},
   "outputs": [],
   "source": [
    "x = np.concatenate((train_bird_x, test_bird_x))"
   ]
  },
  {
   "cell_type": "markdown",
   "metadata": {},
   "source": [
    "## K-Mean Algorithm"
   ]
  },
  {
   "cell_type": "code",
   "execution_count": 33,
   "metadata": {},
   "outputs": [],
   "source": [
    "k_means = KMeans(n_clusters = 4).fit(x.reshape(-1, 3))"
   ]
  },
  {
   "cell_type": "code",
   "execution_count": 40,
   "metadata": {},
   "outputs": [],
   "source": [
    "cluster_colors = k_means.cluster_centers_\n",
    "labels = k_means.labels_"
   ]
  },
  {
   "cell_type": "code",
   "execution_count": 41,
   "metadata": {},
   "outputs": [],
   "source": [
    "x_kmean = np.array([cluster_colors[labels[i]] for i in range(len(x.reshape(-1, 3)))])"
   ]
  },
  {
   "cell_type": "code",
   "execution_count": 45,
   "metadata": {},
   "outputs": [
    {
     "data": {
      "text/plain": [
       "(6000, 32, 32, 3)"
      ]
     },
     "execution_count": 45,
     "metadata": {},
     "output_type": "execute_result"
    }
   ],
   "source": [
    "x_kmean.reshape(-1, 32, 32,3)"
   ]
  },
  {
   "cell_type": "markdown",
   "metadata": {},
   "source": [
    "## RGB to Gray-scale Conversion"
   ]
  },
  {
   "cell_type": "code",
   "execution_count": 69,
   "metadata": {},
   "outputs": [],
   "source": [
    "gray = rgb2gray(x)"
   ]
  },
  {
   "cell_type": "code",
   "execution_count": 81,
   "metadata": {},
   "outputs": [
    {
     "data": {
      "text/plain": [
       "<matplotlib.image.AxesImage at 0x7f967174c150>"
      ]
     },
     "execution_count": 81,
     "metadata": {},
     "output_type": "execute_result"
    },
    {
     "data": {
      "image/png": "[encoded data removed]",
      "text/plain": [
       "<Figure size 576x288 with 2 Axes>"
      ]
     },
     "metadata": {
      "needs_background": "light"
     },
     "output_type": "display_data"
    }
   ],
   "source": [
    "fig, axes = plt.subplots(1,2, figsize=(8, 4))\n",
    "ax = axes.ravel()\n",
    "ax[0].imshow(x[999])\n",
    "ax[1].imshow(gray[999], cmap=plt.cm.gray)"
   ]
  },
  {
   "cell_type": "code",
   "execution_count": 94,
   "metadata": {},
   "outputs": [],
   "source": [
    "onehot_encoder = OneHotEncoder(sparse=False)\n",
    "onehot_encoded = onehot_encoder.fit_transform(labels.reshape(-1, 1)).reshape(-1, 32, 32, 4)"
   ]
  },
  {
   "cell_type": "code",
   "execution_count": 102,
   "metadata": {},
   "outputs": [],
   "source": [
    "gray = gray.reshape(-1, 32, 32,1)\n",
    "\n",
    "\n",
    "tr_gr_x, tst_gr_x, tr_gr_y, tst_gr_y = train_test_split(gray, onehot_encoded, test_size = 0.1)"
   ]
  },
  {
   "cell_type": "code",
   "execution_count": 149,
   "metadata": {},
   "outputs": [
    {
     "name": "stdout",
     "output_type": "stream",
     "text": [
      "Model: \"sequential_22\"\n",
      "_________________________________________________________________\n",
      "Layer (type)                 Output Shape              Param #   \n",
      "=================================================================\n",
      "conv2d_28 (Conv2D)           (None, 32, 32, 64)        1664      \n",
      "_________________________________________________________________\n",
      "max_pooling2d_14 (MaxPooling (None, 32, 32, 64)        0         \n",
      "_________________________________________________________________\n",
      "conv2d_29 (Conv2D)           (None, 32, 32, 64)        102464    \n",
      "_________________________________________________________________\n",
      "dense_24 (Dense)             (None, 32, 32, 32)        2080      \n",
      "_________________________________________________________________\n",
      "dense_25 (Dense)             (None, 32, 32, 4)         132       \n",
      "=================================================================\n",
      "Total params: 106,340\n",
      "Trainable params: 106,340\n",
      "Non-trainable params: 0\n",
      "_________________________________________________________________\n"
     ]
    }
   ],
   "source": [
    "model_conv = keras.Sequential()\n",
    "model_conv.add(keras.layers.Conv2D(64, 5, activation = 'relu', input_shape = (32, 32, 1),padding = 'same'))\n",
    "model_conv.add(keras.layers.MaxPool2D(strides = (1,1),padding = 'same'))\n",
    "model_conv.add(keras.layers.Conv2D(64, 5, activation = 'relu', padding = 'same'))\n",
    "model_conv.add(keras.layers.Dense(32, activation=\"softmax\"))\n",
    "model_conv.add(keras.layers.Dense(4, activation=\"softmax\"))\n",
    "\n",
    "model_conv.compile(loss='categorical_crossentropy', optimizer=keras.optimizers.SGD(0.001))\n",
    "\n",
    "model_conv.summary()"
   ]
  },
  {
   "cell_type": "code",
   "execution_count": 150,
   "metadata": {},
   "outputs": [
    {
     "name": "stdout",
     "output_type": "stream",
     "text": [
      "Train on 5400 samples, validate on 600 samples\n",
      "Epoch 1/30\n",
      "5400/5400 [==============================] - 23s 4ms/sample - loss: 1.3866 - val_loss: 1.3849\n",
      "Epoch 2/30\n",
      "5400/5400 [==============================] - 22s 4ms/sample - loss: 1.3828 - val_loss: 1.3815\n",
      "Epoch 3/30\n",
      "5400/5400 [==============================] - 22s 4ms/sample - loss: 1.3793 - val_loss: 1.3784\n",
      "Epoch 4/30\n",
      "5400/5400 [==============================] - 22s 4ms/sample - loss: 1.3760 - val_loss: 1.3756\n",
      "Epoch 5/30\n",
      "5400/5400 [==============================] - 22s 4ms/sample - loss: 1.3731 - val_loss: 1.3730\n",
      "Epoch 6/30\n",
      "5400/5400 [==============================] - 22s 4ms/sample - loss: 1.3704 - val_loss: 1.3706\n",
      "Epoch 7/30\n",
      "5400/5400 [==============================] - 22s 4ms/sample - loss: 1.3679 - val_loss: 1.3685\n",
      "Epoch 8/30\n",
      "5400/5400 [==============================] - 22s 4ms/sample - loss: 1.3656 - val_loss: 1.3665\n",
      "Epoch 9/30\n",
      "5400/5400 [==============================] - 22s 4ms/sample - loss: 1.3635 - val_loss: 1.3648\n",
      "Epoch 10/30\n",
      "5400/5400 [==============================] - 22s 4ms/sample - loss: 1.3616 - val_loss: 1.3631\n",
      "Epoch 11/30\n",
      "5400/5400 [==============================] - 22s 4ms/sample - loss: 1.3599 - val_loss: 1.3616\n",
      "Epoch 12/30\n",
      "5400/5400 [==============================] - 23s 4ms/sample - loss: 1.3583 - val_loss: 1.3603\n",
      "Epoch 13/30\n",
      "5400/5400 [==============================] - 22s 4ms/sample - loss: 1.3568 - val_loss: 1.3590\n",
      "Epoch 14/30\n",
      "5400/5400 [==============================] - 22s 4ms/sample - loss: 1.3554 - val_loss: 1.3579\n",
      "Epoch 15/30\n",
      "5400/5400 [==============================] - 22s 4ms/sample - loss: 1.3541 - val_loss: 1.3569\n",
      "Epoch 16/30\n",
      "5400/5400 [==============================] - 22s 4ms/sample - loss: 1.3530 - val_loss: 1.3559\n",
      "Epoch 17/30\n",
      "5400/5400 [==============================] - 23s 4ms/sample - loss: 1.3519 - val_loss: 1.3550\n",
      "Epoch 18/30\n",
      "5400/5400 [==============================] - 23s 4ms/sample - loss: 1.3509 - val_loss: 1.3542\n",
      "Epoch 19/30\n",
      "5400/5400 [==============================] - 23s 4ms/sample - loss: 1.3500 - val_loss: 1.3535\n",
      "Epoch 20/30\n",
      "5400/5400 [==============================] - 23s 4ms/sample - loss: 1.3492 - val_loss: 1.3528\n",
      "Epoch 21/30\n",
      "5400/5400 [==============================] - 23s 4ms/sample - loss: 1.3484 - val_loss: 1.3522\n",
      "Epoch 22/30\n",
      "5400/5400 [==============================] - 23s 4ms/sample - loss: 1.3477 - val_loss: 1.3517\n",
      "Epoch 23/30\n",
      "5400/5400 [==============================] - 23s 4ms/sample - loss: 1.3471 - val_loss: 1.3512\n",
      "Epoch 24/30\n",
      "5400/5400 [==============================] - 23s 4ms/sample - loss: 1.3465 - val_loss: 1.3507\n",
      "Epoch 25/30\n",
      "5400/5400 [==============================] - 23s 4ms/sample - loss: 1.3459 - val_loss: 1.3503\n",
      "Epoch 26/30\n",
      "5400/5400 [==============================] - 23s 4ms/sample - loss: 1.3454 - val_loss: 1.3499\n",
      "Epoch 27/30\n",
      "5400/5400 [==============================] - 23s 4ms/sample - loss: 1.3449 - val_loss: 1.3495\n",
      "Epoch 28/30\n",
      "5400/5400 [==============================] - 23s 4ms/sample - loss: 1.3444 - val_loss: 1.3492\n",
      "Epoch 29/30\n",
      "5400/5400 [==============================] - 23s 4ms/sample - loss: 1.3440 - val_loss: 1.3489\n",
      "Epoch 30/30\n",
      "5400/5400 [==============================] - 23s 4ms/sample - loss: 1.3436 - val_loss: 1.3486\n"
     ]
    }
   ],
   "source": [
    "\n",
    "\n",
    "checkpoint_filepath = '../Checkpoints/Conv_checkpoints/checkpoint'\n",
    "model_checkpoint_callback = tf.keras.callbacks.ModelCheckpoint(\n",
    "    filepath=checkpoint_filepath,\n",
    "    save_weights_only=True,\n",
    "    monitor='loss',\n",
    "    mode='min',\n",
    "    save_best_only=True)\n",
    "\n",
    "train = model_conv.fit(tr_gr_x, tr_gr_y, epochs = 30, validation_data=(tst_gr_x, tst_gr_y), callbacks=[model_checkpoint_callback])\n",
    "\n"
   ]
  },
  {
   "cell_type": "code",
   "execution_count": 219,
   "metadata": {},
   "outputs": [
    {
     "data": {
      "image/png": "[encoded data removed]",
      "text/plain": [
       "<Figure size 432x288 with 1 Axes>"
      ]
     },
     "metadata": {
      "needs_background": "light"
     },
     "output_type": "display_data"
    }
   ],
   "source": [
    "plt.plot(train.history['loss'])\n",
    "plt.plot(train.history['val_loss'])\n",
    "plt.ylabel('loss')\n",
    "plt.xlabel('epoch')\n",
    "plt.legend(['Train', 'Test'])\n",
    "plt.show()"
   ]
  },
  {
   "cell_type": "code",
   "execution_count": 190,
   "metadata": {},
   "outputs": [],
   "source": [
    "y_predict = model_conv.predict(tst_gr_x)\n",
    "y_predict = y_predict.reshape(y_predict.shape[0]*32*32, 4)\n",
    "\n",
    "len(y_predict)\n",
    "\n",
    "pred_img = np.array([[int(rgb) for rgb in cluster_colors[np.argmax(y_predict[i])]] for i in range(len(y_predict))])"
   ]
  },
  {
   "cell_type": "code",
   "execution_count": 191,
   "metadata": {},
   "outputs": [],
   "source": [
    "tst_gr_y = tst_gr_y.reshape(tst_gr_x.shape[0]*32*32, 4)\n",
    "\n",
    "pred_img_1 = np.array([[int(rgb) for rgb in cluster_colors[np.argmax(tst_gr_y[i])]] for i in range(len(tst_gr_y))])"
   ]
  },
  {
   "cell_type": "markdown",
   "metadata": {},
   "source": [
    "## Comparison of images"
   ]
  },
  {
   "cell_type": "code",
   "execution_count": 215,
   "metadata": {},
   "outputs": [
    {
     "data": {
      "image/png": "[encoded data removed]",
      "text/plain": [
       "<Figure size 576x288 with 2 Axes>"
      ]
     },
     "metadata": {
      "needs_background": "light"
     },
     "output_type": "display_data"
    },
    {
     "data": {
      "image/png": "[encoded data removed]",
      "text/plain": [
       "<Figure size 576x288 with 2 Axes>"
      ]
     },
     "metadata": {
      "needs_background": "light"
     },
     "output_type": "display_data"
    },
    {
     "data": {
      "image/png": "[encoded data removed]",
      "text/plain": [
       "<Figure size 576x288 with 2 Axes>"
      ]
     },
     "metadata": {
      "needs_background": "light"
     },
     "output_type": "display_data"
    },
    {
     "data": {
      "image/png": "[encoded data removed]",
      "text/plain": [
       "<Figure size 576x288 with 2 Axes>"
      ]
     },
     "metadata": {
      "needs_background": "light"
     },
     "output_type": "display_data"
    },
    {
     "data": {
      "image/png": "[encoded data removed]",
      "text/plain": [
       "<Figure size 576x288 with 2 Axes>"
      ]
     },
     "metadata": {
      "needs_background": "light"
     },
     "output_type": "display_data"
    },
    {
     "data": {
      "image/png": "[encoded data removed]",
      "text/plain": [
       "<Figure size 576x288 with 2 Axes>"
      ]
     },
     "metadata": {
      "needs_background": "light"
     },
     "output_type": "display_data"
    },
    {
     "data": {
      "image/png": "[encoded data removed]",
      "text/plain": [
       "<Figure size 576x288 with 2 Axes>"
      ]
     },
     "metadata": {
      "needs_background": "light"
     },
     "output_type": "display_data"
    },
    {
     "data": {
      "image/png": "[encoded data removed]",
      "text/plain": [
       "<Figure size 576x288 with 2 Axes>"
      ]
     },
     "metadata": {
      "needs_background": "light"
     },
     "output_type": "display_data"
    },
    {
     "data": {
      "image/png": "[encoded data removed]",
      "text/plain": [
       "<Figure size 576x288 with 2 Axes>"
      ]
     },
     "metadata": {
      "needs_background": "light"
     },
     "output_type": "display_data"
    },
    {
     "data": {
      "image/png": "[encoded data removed]",
      "text/plain": [
       "<Figure size 576x288 with 2 Axes>"
      ]
     },
     "metadata": {
      "needs_background": "light"
     },
     "output_type": "display_data"
    }
   ],
   "source": [
    "pred_img = pred_img.reshape(-1, 32, 32, 3)\n",
    "pred_img_1 = pred_img_1.reshape(-1, 32, 32, 3)\n",
    "\n",
    "tst_gr_x = tst_gr_x.reshape(-1, 32 ,32)\n",
    "\n",
    "for i in range(10):\n",
    "    fig, axes = plt.subplots(1,2, figsize=(8, 4))\n",
    "    ax = axes.ravel()\n",
    "    ax[0].imshow(tst_gr_x[i+1])\n",
    "    ax[1].imshow(pred_img_1[i+1])"
   ]
  },
  {
   "cell_type": "code",
   "execution_count": null,
   "metadata": {},
   "outputs": [],
   "source": []
  }
 ],
 "metadata": {
  "kernelspec": {
   "display_name": "Python 3",
   "language": "python",
   "name": "python3"
  },
  "language_info": {
   "codemirror_mode": {
    "name": "ipython",
    "version": 3
   },
   "file_extension": ".py",
   "mimetype": "text/x-python",
   "name": "python",
   "nbconvert_exporter": "python",
   "pygments_lexer": "ipython3",
   "version": "3.7.6"
  }
 },
 "nbformat": 4,
 "nbformat_minor": 1
}
